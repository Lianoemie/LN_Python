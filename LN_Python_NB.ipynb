{
 "cells": [
  {
   "cell_type": "markdown",
   "metadata": {},
   "source": [
    "# Veränderungen der Geburtenrate zwischen 1950 und 2023\n",
    "\n",
    "Gruppe: Lia Müller, Selina Rüdisüli, Melanie Pomellitto\n",
    "\n",
    "Fragen\n",
    "- In welchen Jahren ist die Geburtenrate bemerkenswert gestiegen oder gesunken?\n",
    "- Welche Ursprünge veranlassen die Veränderungen?\n",
    "\n",
    "Quelle: https://ourworldindata.org/grapher/crude-birth-rate?tab=table\n"
   ]
  },
  {
   "cell_type": "markdown",
   "metadata": {},
   "source": [
    "## 1. Daten beschaffen und laden"
   ]
  },
  {
   "cell_type": "code",
   "execution_count": 4,
   "metadata": {},
   "outputs": [],
   "source": [
    "import pandas as pd\n",
    "from matplotlib import pyplot as plt"
   ]
  },
  {
   "cell_type": "code",
   "execution_count": 5,
   "metadata": {},
   "outputs": [
    {
     "data": {
      "text/html": [
       "<div>\n",
       "<style scoped>\n",
       "    .dataframe tbody tr th:only-of-type {\n",
       "        vertical-align: middle;\n",
       "    }\n",
       "\n",
       "    .dataframe tbody tr th {\n",
       "        vertical-align: top;\n",
       "    }\n",
       "\n",
       "    .dataframe thead th {\n",
       "        text-align: right;\n",
       "    }\n",
       "</style>\n",
       "<table border=\"1\" class=\"dataframe\">\n",
       "  <thead>\n",
       "    <tr style=\"text-align: right;\">\n",
       "      <th></th>\n",
       "      <th>Entity</th>\n",
       "      <th>Code</th>\n",
       "      <th>Year</th>\n",
       "      <th>Birth rate</th>\n",
       "    </tr>\n",
       "  </thead>\n",
       "  <tbody>\n",
       "    <tr>\n",
       "      <th>0</th>\n",
       "      <td>Afghanistan</td>\n",
       "      <td>AFG</td>\n",
       "      <td>1950</td>\n",
       "      <td>49.380</td>\n",
       "    </tr>\n",
       "    <tr>\n",
       "      <th>1</th>\n",
       "      <td>Afghanistan</td>\n",
       "      <td>AFG</td>\n",
       "      <td>1951</td>\n",
       "      <td>49.624</td>\n",
       "    </tr>\n",
       "    <tr>\n",
       "      <th>2</th>\n",
       "      <td>Afghanistan</td>\n",
       "      <td>AFG</td>\n",
       "      <td>1952</td>\n",
       "      <td>49.784</td>\n",
       "    </tr>\n",
       "    <tr>\n",
       "      <th>3</th>\n",
       "      <td>Afghanistan</td>\n",
       "      <td>AFG</td>\n",
       "      <td>1953</td>\n",
       "      <td>49.979</td>\n",
       "    </tr>\n",
       "    <tr>\n",
       "      <th>4</th>\n",
       "      <td>Afghanistan</td>\n",
       "      <td>AFG</td>\n",
       "      <td>1954</td>\n",
       "      <td>50.004</td>\n",
       "    </tr>\n",
       "  </tbody>\n",
       "</table>\n",
       "</div>"
      ],
      "text/plain": [
       "        Entity Code  Year  Birth rate\n",
       "0  Afghanistan  AFG  1950      49.380\n",
       "1  Afghanistan  AFG  1951      49.624\n",
       "2  Afghanistan  AFG  1952      49.784\n",
       "3  Afghanistan  AFG  1953      49.979\n",
       "4  Afghanistan  AFG  1954      50.004"
      ]
     },
     "execution_count": 5,
     "metadata": {},
     "output_type": "execute_result"
    }
   ],
   "source": [
    "# loading the data\n",
    "df = pd.read_csv('crude-birth-rate.csv', skiprows=1,\n",
    "                names=['Entity','Code','Year','Birth rate'])\n",
    "df.head()"
   ]
  },
  {
   "cell_type": "markdown",
   "metadata": {},
   "source": [
    "## 2. Daten vorbereiten\n",
    "\n",
    "- Die Roh-Daten sind bereits im Long-Format\n",
    "- Für die Analyse werden die Daten pivotiert: Jede Spalte repräsentiert ein Jahr (Year) und die Zeilen sind die verschiedenen Ethnien (Entity) - in alphabetischer Reihenfolge."
   ]
  },
  {
   "cell_type": "code",
   "execution_count": 6,
   "metadata": {},
   "outputs": [
    {
     "data": {
      "text/html": [
       "<div>\n",
       "<style scoped>\n",
       "    .dataframe tbody tr th:only-of-type {\n",
       "        vertical-align: middle;\n",
       "    }\n",
       "\n",
       "    .dataframe tbody tr th {\n",
       "        vertical-align: top;\n",
       "    }\n",
       "\n",
       "    .dataframe thead th {\n",
       "        text-align: right;\n",
       "    }\n",
       "</style>\n",
       "<table border=\"1\" class=\"dataframe\">\n",
       "  <thead>\n",
       "    <tr style=\"text-align: right;\">\n",
       "      <th>Year</th>\n",
       "      <th>1950</th>\n",
       "      <th>1951</th>\n",
       "      <th>1952</th>\n",
       "      <th>1953</th>\n",
       "      <th>1954</th>\n",
       "      <th>1955</th>\n",
       "      <th>1956</th>\n",
       "      <th>1957</th>\n",
       "      <th>1958</th>\n",
       "      <th>1959</th>\n",
       "      <th>...</th>\n",
       "      <th>2014</th>\n",
       "      <th>2015</th>\n",
       "      <th>2016</th>\n",
       "      <th>2017</th>\n",
       "      <th>2018</th>\n",
       "      <th>2019</th>\n",
       "      <th>2020</th>\n",
       "      <th>2021</th>\n",
       "      <th>2022</th>\n",
       "      <th>2023</th>\n",
       "    </tr>\n",
       "    <tr>\n",
       "      <th>Entity</th>\n",
       "      <th></th>\n",
       "      <th></th>\n",
       "      <th></th>\n",
       "      <th></th>\n",
       "      <th></th>\n",
       "      <th></th>\n",
       "      <th></th>\n",
       "      <th></th>\n",
       "      <th></th>\n",
       "      <th></th>\n",
       "      <th></th>\n",
       "      <th></th>\n",
       "      <th></th>\n",
       "      <th></th>\n",
       "      <th></th>\n",
       "      <th></th>\n",
       "      <th></th>\n",
       "      <th></th>\n",
       "      <th></th>\n",
       "      <th></th>\n",
       "      <th></th>\n",
       "    </tr>\n",
       "  </thead>\n",
       "  <tbody>\n",
       "    <tr>\n",
       "      <th>Afghanistan</th>\n",
       "      <td>49.380</td>\n",
       "      <td>49.624</td>\n",
       "      <td>49.784</td>\n",
       "      <td>49.979</td>\n",
       "      <td>50.004</td>\n",
       "      <td>50.156</td>\n",
       "      <td>50.279</td>\n",
       "      <td>50.306</td>\n",
       "      <td>50.424</td>\n",
       "      <td>50.456</td>\n",
       "      <td>...</td>\n",
       "      <td>39.646</td>\n",
       "      <td>39.364</td>\n",
       "      <td>38.732</td>\n",
       "      <td>38.171</td>\n",
       "      <td>37.624</td>\n",
       "      <td>37.138</td>\n",
       "      <td>36.601</td>\n",
       "      <td>36.342</td>\n",
       "      <td>36.045</td>\n",
       "      <td>35.437</td>\n",
       "    </tr>\n",
       "    <tr>\n",
       "      <th>Albania</th>\n",
       "      <td>39.298</td>\n",
       "      <td>39.659</td>\n",
       "      <td>39.790</td>\n",
       "      <td>40.692</td>\n",
       "      <td>41.433</td>\n",
       "      <td>41.913</td>\n",
       "      <td>41.605</td>\n",
       "      <td>41.113</td>\n",
       "      <td>41.427</td>\n",
       "      <td>41.518</td>\n",
       "      <td>...</td>\n",
       "      <td>13.071</td>\n",
       "      <td>12.431</td>\n",
       "      <td>11.873</td>\n",
       "      <td>11.416</td>\n",
       "      <td>10.898</td>\n",
       "      <td>10.757</td>\n",
       "      <td>10.536</td>\n",
       "      <td>10.512</td>\n",
       "      <td>10.305</td>\n",
       "      <td>10.244</td>\n",
       "    </tr>\n",
       "    <tr>\n",
       "      <th>Algeria</th>\n",
       "      <td>50.602</td>\n",
       "      <td>50.284</td>\n",
       "      <td>49.961</td>\n",
       "      <td>49.746</td>\n",
       "      <td>49.666</td>\n",
       "      <td>49.625</td>\n",
       "      <td>49.516</td>\n",
       "      <td>49.404</td>\n",
       "      <td>49.397</td>\n",
       "      <td>49.114</td>\n",
       "      <td>...</td>\n",
       "      <td>26.063</td>\n",
       "      <td>25.811</td>\n",
       "      <td>25.439</td>\n",
       "      <td>25.015</td>\n",
       "      <td>24.063</td>\n",
       "      <td>23.379</td>\n",
       "      <td>22.430</td>\n",
       "      <td>21.392</td>\n",
       "      <td>20.491</td>\n",
       "      <td>19.625</td>\n",
       "    </tr>\n",
       "    <tr>\n",
       "      <th>Andorra</th>\n",
       "      <td>15.345</td>\n",
       "      <td>16.850</td>\n",
       "      <td>16.899</td>\n",
       "      <td>16.663</td>\n",
       "      <td>15.891</td>\n",
       "      <td>15.931</td>\n",
       "      <td>16.460</td>\n",
       "      <td>17.343</td>\n",
       "      <td>18.255</td>\n",
       "      <td>19.212</td>\n",
       "      <td>...</td>\n",
       "      <td>8.973</td>\n",
       "      <td>9.132</td>\n",
       "      <td>8.432</td>\n",
       "      <td>7.831</td>\n",
       "      <td>7.159</td>\n",
       "      <td>6.993</td>\n",
       "      <td>6.831</td>\n",
       "      <td>6.828</td>\n",
       "      <td>6.850</td>\n",
       "      <td>6.859</td>\n",
       "    </tr>\n",
       "    <tr>\n",
       "      <th>Angola</th>\n",
       "      <td>44.290</td>\n",
       "      <td>45.015</td>\n",
       "      <td>46.163</td>\n",
       "      <td>47.224</td>\n",
       "      <td>48.186</td>\n",
       "      <td>49.037</td>\n",
       "      <td>49.771</td>\n",
       "      <td>50.387</td>\n",
       "      <td>50.891</td>\n",
       "      <td>51.295</td>\n",
       "      <td>...</td>\n",
       "      <td>42.503</td>\n",
       "      <td>41.847</td>\n",
       "      <td>41.183</td>\n",
       "      <td>40.595</td>\n",
       "      <td>40.057</td>\n",
       "      <td>39.539</td>\n",
       "      <td>39.127</td>\n",
       "      <td>38.670</td>\n",
       "      <td>38.102</td>\n",
       "      <td>37.588</td>\n",
       "    </tr>\n",
       "  </tbody>\n",
       "</table>\n",
       "<p>5 rows × 74 columns</p>\n",
       "</div>"
      ],
      "text/plain": [
       "Year           1950    1951    1952    1953    1954    1955    1956    1957  \\\n",
       "Entity                                                                        \n",
       "Afghanistan  49.380  49.624  49.784  49.979  50.004  50.156  50.279  50.306   \n",
       "Albania      39.298  39.659  39.790  40.692  41.433  41.913  41.605  41.113   \n",
       "Algeria      50.602  50.284  49.961  49.746  49.666  49.625  49.516  49.404   \n",
       "Andorra      15.345  16.850  16.899  16.663  15.891  15.931  16.460  17.343   \n",
       "Angola       44.290  45.015  46.163  47.224  48.186  49.037  49.771  50.387   \n",
       "\n",
       "Year           1958    1959  ...    2014    2015    2016    2017    2018  \\\n",
       "Entity                       ...                                           \n",
       "Afghanistan  50.424  50.456  ...  39.646  39.364  38.732  38.171  37.624   \n",
       "Albania      41.427  41.518  ...  13.071  12.431  11.873  11.416  10.898   \n",
       "Algeria      49.397  49.114  ...  26.063  25.811  25.439  25.015  24.063   \n",
       "Andorra      18.255  19.212  ...   8.973   9.132   8.432   7.831   7.159   \n",
       "Angola       50.891  51.295  ...  42.503  41.847  41.183  40.595  40.057   \n",
       "\n",
       "Year           2019    2020    2021    2022    2023  \n",
       "Entity                                               \n",
       "Afghanistan  37.138  36.601  36.342  36.045  35.437  \n",
       "Albania      10.757  10.536  10.512  10.305  10.244  \n",
       "Algeria      23.379  22.430  21.392  20.491  19.625  \n",
       "Andorra       6.993   6.831   6.828   6.850   6.859  \n",
       "Angola       39.539  39.127  38.670  38.102  37.588  \n",
       "\n",
       "[5 rows x 74 columns]"
      ]
     },
     "execution_count": 6,
     "metadata": {},
     "output_type": "execute_result"
    }
   ],
   "source": [
    "df_pivot = df.pivot(index='Entity', columns='Year', values= 'Birth rate')\n",
    "df_pivot.head()"
   ]
  },
  {
   "cell_type": "markdown",
   "metadata": {},
   "source": [
    "## 3. Statistik der Roh-Daten (Analyse im Long-Format)\n",
    "\n",
    "über die einzelnen Spalten kann folgendes ausgesagt werden:\n",
    "- Die Spalte *Entity* (Ethnien) enthält 201 verschiedene Ethnien\n",
    "- Die Spalte *Codes* inkludiert ebenfalls 201 verschiedene Codes \n",
    "- Es sind Daten zwischen 1950 und 2023 vorhanden. Der Datensatz beeinhaltet 74 Jahre. Zu jedem Jahr sind gleich viele Daten verfügbar, weshalb der Datensatz seit Beginn der Aufzeichnung 1950 komplett ist.\n",
    "- Die Geburtenrate streut zwischen ........maximum, minimum"
   ]
  },
  {
   "cell_type": "code",
   "execution_count": 7,
   "metadata": {},
   "outputs": [
    {
     "data": {
      "text/plain": [
       "Entity         object\n",
       "Code           object\n",
       "Year            int64\n",
       "Birth rate    float64\n",
       "dtype: object"
      ]
     },
     "execution_count": 7,
     "metadata": {},
     "output_type": "execute_result"
    }
   ],
   "source": [
    "df.dtypes"
   ]
  },
  {
   "cell_type": "markdown",
   "metadata": {},
   "source": [
    "### 3.1 Analyse Codes"
   ]
  },
  {
   "cell_type": "code",
   "execution_count": 8,
   "metadata": {},
   "outputs": [
    {
     "name": "stdout",
     "output_type": "stream",
     "text": [
      "Anzahl verschiedener Codes:   201\n"
     ]
    }
   ],
   "source": [
    "print('Anzahl verschiedener Codes:  ', len(df['Code'].unique()))"
   ]
  },
  {
   "cell_type": "code",
   "execution_count": 9,
   "metadata": {},
   "outputs": [
    {
     "data": {
      "text/plain": [
       "Code\n",
       "AFG    74\n",
       "PAN    74\n",
       "NIC    74\n",
       "NER    74\n",
       "NGA    74\n",
       "       ..\n",
       "GRC    74\n",
       "GRL    74\n",
       "GRD    74\n",
       "GTM    74\n",
       "ZWE    74\n",
       "Name: count, Length: 201, dtype: int64"
      ]
     },
     "execution_count": 9,
     "metadata": {},
     "output_type": "execute_result"
    }
   ],
   "source": [
    "# Anzahl Datenpunkte pro Gebiet\n",
    "df['Code'].value_counts()"
   ]
  },
  {
   "cell_type": "code",
   "execution_count": 10,
   "metadata": {},
   "outputs": [
    {
     "data": {
      "image/png": "[encoded data removed]",
      "text/plain": [
       "<Figure size 640x480 with 1 Axes>"
      ]
     },
     "metadata": {},
     "output_type": "display_data"
    }
   ],
   "source": [
    "df['Code'].value_counts().plot(kind='bar', xticks=[], ylabel='Anzahl Datenpunkte', title='Anzahl Datenpunkte für Codes');"
   ]
  },
  {
   "cell_type": "markdown",
   "metadata": {},
   "source": [
    "### 3.2 Vergleich Anzahl Datenpunkte der Codes und Ethnien"
   ]
  },
  {
   "cell_type": "code",
   "execution_count": 11,
   "metadata": {},
   "outputs": [
    {
     "data": {
      "image/png": "[encoded data removed]",
      "text/plain": [
       "<Figure size 640x480 with 1 Axes>"
      ]
     },
     "metadata": {},
     "output_type": "display_data"
    }
   ],
   "source": [
    "df['Code'].value_counts().plot(kind='bar', \n",
    "                               xticks=[], \n",
    "                               ylabel='', title='Vergleich Anzahl Datenpunkte der Codes und Ethnien');"
   ]
  },
  {
   "cell_type": "markdown",
   "metadata": {},
   "source": [
    "### 3.3 Analyse Jahr (Year)"
   ]
  },
  {
   "cell_type": "code",
   "execution_count": 12,
   "metadata": {},
   "outputs": [
    {
     "name": "stdout",
     "output_type": "stream",
     "text": [
      "Anzahl verschiedener Jahre:  74\n"
     ]
    }
   ],
   "source": [
    "print('Anzahl verschiedener Jahre: ', len(df['Year'].unique()))"
   ]
  },
  {
   "cell_type": "code",
   "execution_count": 13,
   "metadata": {},
   "outputs": [
    {
     "data": {
      "text/plain": [
       "Year\n",
       "1950    201\n",
       "1951    201\n",
       "1952    201\n",
       "1953    201\n",
       "1954    201\n",
       "       ... \n",
       "2019    201\n",
       "2020    201\n",
       "2021    201\n",
       "2022    201\n",
       "2023    201\n",
       "Name: count, Length: 74, dtype: int64"
      ]
     },
     "execution_count": 13,
     "metadata": {},
     "output_type": "execute_result"
    }
   ],
   "source": [
    "# Anzahl Datenpunkte pro Jahr\n",
    "df['Year'].value_counts().sort_index()"
   ]
  },
  {
   "cell_type": "code",
   "execution_count": 14,
   "metadata": {},
   "outputs": [],
   "source": [
    "# Jahre mit maximaler Anzahl Datenpunkte ()"
   ]
  },
  {
   "cell_type": "markdown",
   "metadata": {},
   "source": [
    "### 3.4 Analyse Geburtenrate (Birth rate)"
   ]
  },
  {
   "cell_type": "code",
   "execution_count": 15,
   "metadata": {},
   "outputs": [
    {
     "data": {
      "text/plain": [
       "<bound method NDFrame.describe of             Entity Code  Year  Birth rate\n",
       "0      Afghanistan  AFG  1950      49.380\n",
       "1      Afghanistan  AFG  1951      49.624\n",
       "2      Afghanistan  AFG  1952      49.784\n",
       "3      Afghanistan  AFG  1953      49.979\n",
       "4      Afghanistan  AFG  1954      50.004\n",
       "...            ...  ...   ...         ...\n",
       "14869     Zimbabwe  ZWE  2019      31.121\n",
       "14870     Zimbabwe  ZWE  2020      30.988\n",
       "14871     Zimbabwe  ZWE  2021      30.932\n",
       "14872     Zimbabwe  ZWE  2022      30.882\n",
       "14873     Zimbabwe  ZWE  2023      30.410\n",
       "\n",
       "[14874 rows x 4 columns]>"
      ]
     },
     "execution_count": 15,
     "metadata": {},
     "output_type": "execute_result"
    }
   ],
   "source": [
    "df.describe"
   ]
  },
  {
   "cell_type": "markdown",
   "metadata": {},
   "source": [
    "## 4. Analyse\n",
    "\n",
    "### Vorgehen\n",
    "### Beobachtung\n",
    "### Interpretation QUELLE !!!!\n",
    "\n",
    "\n",
    "\n"
   ]
  },
  {
   "cell_type": "markdown",
   "metadata": {},
   "source": [
    "## Berechnungen"
   ]
  },
  {
   "cell_type": "markdown",
   "metadata": {},
   "source": [
    "## Visualisierung"
   ]
  }
 ],
 "metadata": {
  "kernelspec": {
   "display_name": "Python 3",
   "language": "python",
   "name": "python3"
  },
  "language_info": {
   "codemirror_mode": {
    "name": "ipython",
    "version": 3
   },
   "file_extension": ".py",
   "mimetype": "text/x-python",
   "name": "python",
   "nbconvert_exporter": "python",
   "pygments_lexer": "ipython3",
   "version": "3.12.4"
  }
 },
 "nbformat": 4,
 "nbformat_minor": 2
}
