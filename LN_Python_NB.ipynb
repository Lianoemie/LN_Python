{
 "cells": [
  {
   "cell_type": "markdown",
   "metadata": {},
   "source": [
    "# Veränderungen der Geburtenrate zwischen 1950 und 2023\n",
    "\n",
    "Gruppe: Lia Müller, Selina Rüdisüli, Melanie Pomellitto\n",
    "\n",
    "Fragen\n",
    "- In welchen Jahren ist die Geburtenrate bemerkenswert gestiegen oder gesunken?\n",
    "- Welche Ursprünge veranlassen die Veränderungen?\n",
    "\n",
    "Quelle: https://ourworldindata.org/grapher/crude-birth-rate?tab=table\n"
   ]
  },
  {
   "cell_type": "code",
   "execution_count": 1,
   "metadata": {},
   "outputs": [],
   "source": [
    "import pandas as pd\n",
    "from matplotlib import pyplot as plt"
   ]
  },
  {
   "cell_type": "code",
   "execution_count": 2,
   "metadata": {},
   "outputs": [
    {
     "data": {
      "text/html": [
       "<div>\n",
       "<style scoped>\n",
       "    .dataframe tbody tr th:only-of-type {\n",
       "        vertical-align: middle;\n",
       "    }\n",
       "\n",
       "    .dataframe tbody tr th {\n",
       "        vertical-align: top;\n",
       "    }\n",
       "\n",
       "    .dataframe thead th {\n",
       "        text-align: right;\n",
       "    }\n",
       "</style>\n",
       "<table border=\"1\" class=\"dataframe\">\n",
       "  <thead>\n",
       "    <tr style=\"text-align: right;\">\n",
       "      <th></th>\n",
       "      <th>Entity</th>\n",
       "      <th>Code</th>\n",
       "      <th>Year</th>\n",
       "      <th>Birth rate</th>\n",
       "    </tr>\n",
       "  </thead>\n",
       "  <tbody>\n",
       "    <tr>\n",
       "      <th>0</th>\n",
       "      <td>Afghanistan</td>\n",
       "      <td>AFG</td>\n",
       "      <td>1950</td>\n",
       "      <td>49.380</td>\n",
       "    </tr>\n",
       "    <tr>\n",
       "      <th>1</th>\n",
       "      <td>Afghanistan</td>\n",
       "      <td>AFG</td>\n",
       "      <td>1951</td>\n",
       "      <td>49.624</td>\n",
       "    </tr>\n",
       "    <tr>\n",
       "      <th>2</th>\n",
       "      <td>Afghanistan</td>\n",
       "      <td>AFG</td>\n",
       "      <td>1952</td>\n",
       "      <td>49.784</td>\n",
       "    </tr>\n",
       "    <tr>\n",
       "      <th>3</th>\n",
       "      <td>Afghanistan</td>\n",
       "      <td>AFG</td>\n",
       "      <td>1953</td>\n",
       "      <td>49.979</td>\n",
       "    </tr>\n",
       "    <tr>\n",
       "      <th>4</th>\n",
       "      <td>Afghanistan</td>\n",
       "      <td>AFG</td>\n",
       "      <td>1954</td>\n",
       "      <td>50.004</td>\n",
       "    </tr>\n",
       "  </tbody>\n",
       "</table>\n",
       "</div>"
      ],
      "text/plain": [
       "        Entity Code  Year  Birth rate\n",
       "0  Afghanistan  AFG  1950      49.380\n",
       "1  Afghanistan  AFG  1951      49.624\n",
       "2  Afghanistan  AFG  1952      49.784\n",
       "3  Afghanistan  AFG  1953      49.979\n",
       "4  Afghanistan  AFG  1954      50.004"
      ]
     },
     "execution_count": 2,
     "metadata": {},
     "output_type": "execute_result"
    }
   ],
   "source": [
    "# loading the data\n",
    "df = pd.read_csv('crude-birth-rate.csv', skiprows=1,\n",
    "                names=['Entity','Code','Year','Birth rate'])\n",
    "df.head()"
   ]
  },
  {
   "cell_type": "markdown",
   "metadata": {},
   "source": [
    "## Daten vorbereiten\n",
    "- Die Roh-Daten sind bereits im Long-Format\n",
    "- Für die Analyse werden die Daten pivotiert: Jede Spalte repräsentiert ein Jahr (Year) und die Zeilen sind die verschiedenen Ethnien (Entity) - in alphabetischer Reihenfolge."
   ]
  },
  {
   "cell_type": "code",
   "execution_count": 4,
   "metadata": {},
   "outputs": [
    {
     "data": {
      "text/html": [
       "<div>\n",
       "<style scoped>\n",
       "    .dataframe tbody tr th:only-of-type {\n",
       "        vertical-align: middle;\n",
       "    }\n",
       "\n",
       "    .dataframe tbody tr th {\n",
       "        vertical-align: top;\n",
       "    }\n",
       "\n",
       "    .dataframe thead th {\n",
       "        text-align: right;\n",
       "    }\n",
       "</style>\n",
       "<table border=\"1\" class=\"dataframe\">\n",
       "  <thead>\n",
       "    <tr style=\"text-align: right;\">\n",
       "      <th>Year</th>\n",
       "      <th>1950</th>\n",
       "      <th>1951</th>\n",
       "      <th>1952</th>\n",
       "      <th>1953</th>\n",
       "      <th>1954</th>\n",
       "      <th>1955</th>\n",
       "      <th>1956</th>\n",
       "      <th>1957</th>\n",
       "      <th>1958</th>\n",
       "      <th>1959</th>\n",
       "      <th>...</th>\n",
       "      <th>2014</th>\n",
       "      <th>2015</th>\n",
       "      <th>2016</th>\n",
       "      <th>2017</th>\n",
       "      <th>2018</th>\n",
       "      <th>2019</th>\n",
       "      <th>2020</th>\n",
       "      <th>2021</th>\n",
       "      <th>2022</th>\n",
       "      <th>2023</th>\n",
       "    </tr>\n",
       "    <tr>\n",
       "      <th>Entity</th>\n",
       "      <th></th>\n",
       "      <th></th>\n",
       "      <th></th>\n",
       "      <th></th>\n",
       "      <th></th>\n",
       "      <th></th>\n",
       "      <th></th>\n",
       "      <th></th>\n",
       "      <th></th>\n",
       "      <th></th>\n",
       "      <th></th>\n",
       "      <th></th>\n",
       "      <th></th>\n",
       "      <th></th>\n",
       "      <th></th>\n",
       "      <th></th>\n",
       "      <th></th>\n",
       "      <th></th>\n",
       "      <th></th>\n",
       "      <th></th>\n",
       "      <th></th>\n",
       "    </tr>\n",
       "  </thead>\n",
       "  <tbody>\n",
       "    <tr>\n",
       "      <th>Afghanistan</th>\n",
       "      <td>49.380</td>\n",
       "      <td>49.624</td>\n",
       "      <td>49.784</td>\n",
       "      <td>49.979</td>\n",
       "      <td>50.004</td>\n",
       "      <td>50.156</td>\n",
       "      <td>50.279</td>\n",
       "      <td>50.306</td>\n",
       "      <td>50.424</td>\n",
       "      <td>50.456</td>\n",
       "      <td>...</td>\n",
       "      <td>39.646</td>\n",
       "      <td>39.364</td>\n",
       "      <td>38.732</td>\n",
       "      <td>38.171</td>\n",
       "      <td>37.624</td>\n",
       "      <td>37.138</td>\n",
       "      <td>36.601</td>\n",
       "      <td>36.342</td>\n",
       "      <td>36.045</td>\n",
       "      <td>35.437</td>\n",
       "    </tr>\n",
       "    <tr>\n",
       "      <th>Africa (UN)</th>\n",
       "      <td>47.760</td>\n",
       "      <td>47.896</td>\n",
       "      <td>47.986</td>\n",
       "      <td>48.084</td>\n",
       "      <td>48.080</td>\n",
       "      <td>48.062</td>\n",
       "      <td>48.029</td>\n",
       "      <td>47.996</td>\n",
       "      <td>47.955</td>\n",
       "      <td>47.864</td>\n",
       "      <td>...</td>\n",
       "      <td>35.482</td>\n",
       "      <td>34.966</td>\n",
       "      <td>34.334</td>\n",
       "      <td>33.832</td>\n",
       "      <td>33.166</td>\n",
       "      <td>32.615</td>\n",
       "      <td>32.136</td>\n",
       "      <td>31.754</td>\n",
       "      <td>31.426</td>\n",
       "      <td>31.108</td>\n",
       "    </tr>\n",
       "    <tr>\n",
       "      <th>Albania</th>\n",
       "      <td>39.298</td>\n",
       "      <td>39.659</td>\n",
       "      <td>39.790</td>\n",
       "      <td>40.692</td>\n",
       "      <td>41.433</td>\n",
       "      <td>41.913</td>\n",
       "      <td>41.605</td>\n",
       "      <td>41.113</td>\n",
       "      <td>41.427</td>\n",
       "      <td>41.518</td>\n",
       "      <td>...</td>\n",
       "      <td>13.071</td>\n",
       "      <td>12.431</td>\n",
       "      <td>11.873</td>\n",
       "      <td>11.416</td>\n",
       "      <td>10.898</td>\n",
       "      <td>10.757</td>\n",
       "      <td>10.536</td>\n",
       "      <td>10.512</td>\n",
       "      <td>10.305</td>\n",
       "      <td>10.244</td>\n",
       "    </tr>\n",
       "    <tr>\n",
       "      <th>Algeria</th>\n",
       "      <td>50.602</td>\n",
       "      <td>50.284</td>\n",
       "      <td>49.961</td>\n",
       "      <td>49.746</td>\n",
       "      <td>49.666</td>\n",
       "      <td>49.625</td>\n",
       "      <td>49.516</td>\n",
       "      <td>49.404</td>\n",
       "      <td>49.397</td>\n",
       "      <td>49.114</td>\n",
       "      <td>...</td>\n",
       "      <td>26.063</td>\n",
       "      <td>25.811</td>\n",
       "      <td>25.439</td>\n",
       "      <td>25.015</td>\n",
       "      <td>24.063</td>\n",
       "      <td>23.379</td>\n",
       "      <td>22.430</td>\n",
       "      <td>21.392</td>\n",
       "      <td>20.491</td>\n",
       "      <td>19.625</td>\n",
       "    </tr>\n",
       "    <tr>\n",
       "      <th>American Samoa</th>\n",
       "      <td>44.374</td>\n",
       "      <td>44.696</td>\n",
       "      <td>43.885</td>\n",
       "      <td>43.085</td>\n",
       "      <td>42.449</td>\n",
       "      <td>42.011</td>\n",
       "      <td>41.621</td>\n",
       "      <td>41.870</td>\n",
       "      <td>42.408</td>\n",
       "      <td>42.565</td>\n",
       "      <td>...</td>\n",
       "      <td>20.317</td>\n",
       "      <td>19.821</td>\n",
       "      <td>19.141</td>\n",
       "      <td>18.206</td>\n",
       "      <td>17.204</td>\n",
       "      <td>16.304</td>\n",
       "      <td>15.658</td>\n",
       "      <td>15.649</td>\n",
       "      <td>15.522</td>\n",
       "      <td>15.388</td>\n",
       "    </tr>\n",
       "  </tbody>\n",
       "</table>\n",
       "<p>5 rows × 74 columns</p>\n",
       "</div>"
      ],
      "text/plain": [
       "Year              1950    1951    1952    1953    1954    1955    1956  \\\n",
       "Entity                                                                   \n",
       "Afghanistan     49.380  49.624  49.784  49.979  50.004  50.156  50.279   \n",
       "Africa (UN)     47.760  47.896  47.986  48.084  48.080  48.062  48.029   \n",
       "Albania         39.298  39.659  39.790  40.692  41.433  41.913  41.605   \n",
       "Algeria         50.602  50.284  49.961  49.746  49.666  49.625  49.516   \n",
       "American Samoa  44.374  44.696  43.885  43.085  42.449  42.011  41.621   \n",
       "\n",
       "Year              1957    1958    1959  ...    2014    2015    2016    2017  \\\n",
       "Entity                                  ...                                   \n",
       "Afghanistan     50.306  50.424  50.456  ...  39.646  39.364  38.732  38.171   \n",
       "Africa (UN)     47.996  47.955  47.864  ...  35.482  34.966  34.334  33.832   \n",
       "Albania         41.113  41.427  41.518  ...  13.071  12.431  11.873  11.416   \n",
       "Algeria         49.404  49.397  49.114  ...  26.063  25.811  25.439  25.015   \n",
       "American Samoa  41.870  42.408  42.565  ...  20.317  19.821  19.141  18.206   \n",
       "\n",
       "Year              2018    2019    2020    2021    2022    2023  \n",
       "Entity                                                          \n",
       "Afghanistan     37.624  37.138  36.601  36.342  36.045  35.437  \n",
       "Africa (UN)     33.166  32.615  32.136  31.754  31.426  31.108  \n",
       "Albania         10.898  10.757  10.536  10.512  10.305  10.244  \n",
       "Algeria         24.063  23.379  22.430  21.392  20.491  19.625  \n",
       "American Samoa  17.204  16.304  15.658  15.649  15.522  15.388  \n",
       "\n",
       "[5 rows x 74 columns]"
      ]
     },
     "execution_count": 4,
     "metadata": {},
     "output_type": "execute_result"
    }
   ],
   "source": [
    "df_pivot = df.pivot(index='Entity', columns='Year', values= 'Birth rate')\n",
    "df_pivot.head()"
   ]
  },
  {
   "cell_type": "markdown",
   "metadata": {},
   "source": [
    "## Statistik der Roh-Daten (Analyse im Long-Format)\n",
    "\n",
    "über die einzelnen Spalten kann folgendes ausgesagt werden:\n",
    "- Die Spalte *Entity* (Ethnien) enthält 253 verschiedene Ethnien\n",
    "- "
   ]
  },
  {
   "cell_type": "code",
   "execution_count": 5,
   "metadata": {},
   "outputs": [
    {
     "data": {
      "text/plain": [
       "Entity         object\n",
       "Code           object\n",
       "Year            int64\n",
       "Birth rate    float64\n",
       "dtype: object"
      ]
     },
     "execution_count": 5,
     "metadata": {},
     "output_type": "execute_result"
    }
   ],
   "source": [
    "df.dtypes"
   ]
  },
  {
   "cell_type": "markdown",
   "metadata": {},
   "source": [
    "## Analyse Ethnien (Entity)"
   ]
  },
  {
   "cell_type": "code",
   "execution_count": 6,
   "metadata": {},
   "outputs": [
    {
     "name": "stdout",
     "output_type": "stream",
     "text": [
      "Anzahl verschiedener Ethnien: 253\n"
     ]
    }
   ],
   "source": [
    "print('Anzahl verschiedener Ethnien:', len(df['Entity'].unique()))"
   ]
  },
  {
   "cell_type": "code",
   "execution_count": 7,
   "metadata": {},
   "outputs": [
    {
     "data": {
      "text/plain": [
       "Entity\n",
       "Afghanistan      74\n",
       "Pakistan         74\n",
       "New Caledonia    74\n",
       "New Zealand      74\n",
       "Nicaragua        74\n",
       "                 ..\n",
       "Guatemala        74\n",
       "Guernsey         74\n",
       "Guinea           74\n",
       "Guinea-Bissau    74\n",
       "Zimbabwe         74\n",
       "Name: count, Length: 253, dtype: int64"
      ]
     },
     "execution_count": 7,
     "metadata": {},
     "output_type": "execute_result"
    }
   ],
   "source": [
    "# Anzahl Datenpunkte pro Gebiet\n",
    "df['Entity'].value_counts()"
   ]
  },
  {
   "cell_type": "code",
   "execution_count": 17,
   "metadata": {},
   "outputs": [
    {
     "data": {
      "text/plain": [
       "<Axes: title={'center': 'Anzahl Datenpunkte pro Ethnie'}, xlabel='Entity', ylabel='Anzahl Datenpunkte'>"
      ]
     },
     "execution_count": 17,
     "metadata": {},
     "output_type": "execute_result"
    },
    {
     "data": {
      "image/png": "[encoded data removed]",
      "text/plain": [
       "<Figure size 640x480 with 1 Axes>"
      ]
     },
     "metadata": {},
     "output_type": "display_data"
    }
   ],
   "source": [
    "df['Entity'].value_counts().plot(kind='bar',\n",
    "                                 xticks=[],     # disable labels on x-axis\n",
    "                                 ylabel='Anzahl Datenpunkte', title='Anzahl Datenpunkte pro Ethnie')"
   ]
  },
  {
   "cell_type": "markdown",
   "metadata": {},
   "source": [
    "## Analyse Codes"
   ]
  }
 ],
 "metadata": {
  "kernelspec": {
   "display_name": "base",
   "language": "python",
   "name": "python3"
  },
  "language_info": {
   "codemirror_mode": {
    "name": "ipython",
    "version": 3
   },
   "file_extension": ".py",
   "mimetype": "text/x-python",
   "name": "python",
   "nbconvert_exporter": "python",
   "pygments_lexer": "ipython3",
   "version": "3.12.4"
  }
 },
 "nbformat": 4,
 "nbformat_minor": 2
}
