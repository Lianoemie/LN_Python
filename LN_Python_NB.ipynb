{
 "cells": [
  {
   "cell_type": "markdown",
   "metadata": {},
   "source": [
    "# Veränderungen der Geburtenrate zwischen 1950 und 2023\n",
    "\n",
    "Gruppe: Lia Müller, Selina Rüdisüli, Melanie Pomellitto\n",
    "\n",
    "Fragen\n",
    "- In welchen Jahren ist die Geburtenrate bemerkenswert gestiegen oder gesunken?\n",
    "- Welche Ursprünge veranlassen die Veränderungen?\n",
    "\n",
    "Quelle: https://ourworldindata.org/grapher/crude-birth-rate?tab=table\n"
   ]
  },
  {
   "cell_type": "markdown",
   "metadata": {},
   "source": [
    "## 1. Daten beschaffen und laden"
   ]
  },
  {
   "cell_type": "code",
   "execution_count": 162,
   "metadata": {},
   "outputs": [],
   "source": [
    "import pandas as pd\n",
    "import seaborn as sns\n",
    "from matplotlib import pyplot as plt"
   ]
  },
  {
   "cell_type": "code",
   "execution_count": 163,
   "metadata": {},
   "outputs": [
    {
     "data": {
      "text/html": [
       "<div>\n",
       "<style scoped>\n",
       "    .dataframe tbody tr th:only-of-type {\n",
       "        vertical-align: middle;\n",
       "    }\n",
       "\n",
       "    .dataframe tbody tr th {\n",
       "        vertical-align: top;\n",
       "    }\n",
       "\n",
       "    .dataframe thead th {\n",
       "        text-align: right;\n",
       "    }\n",
       "</style>\n",
       "<table border=\"1\" class=\"dataframe\">\n",
       "  <thead>\n",
       "    <tr style=\"text-align: right;\">\n",
       "      <th></th>\n",
       "      <th>Entity</th>\n",
       "      <th>Code</th>\n",
       "      <th>Year</th>\n",
       "      <th>Birth rate per 1000 population</th>\n",
       "    </tr>\n",
       "  </thead>\n",
       "  <tbody>\n",
       "    <tr>\n",
       "      <th>0</th>\n",
       "      <td>Afghanistan</td>\n",
       "      <td>AFG</td>\n",
       "      <td>1950</td>\n",
       "      <td>49.380</td>\n",
       "    </tr>\n",
       "    <tr>\n",
       "      <th>1</th>\n",
       "      <td>Afghanistan</td>\n",
       "      <td>AFG</td>\n",
       "      <td>1951</td>\n",
       "      <td>49.624</td>\n",
       "    </tr>\n",
       "    <tr>\n",
       "      <th>2</th>\n",
       "      <td>Afghanistan</td>\n",
       "      <td>AFG</td>\n",
       "      <td>1952</td>\n",
       "      <td>49.784</td>\n",
       "    </tr>\n",
       "    <tr>\n",
       "      <th>3</th>\n",
       "      <td>Afghanistan</td>\n",
       "      <td>AFG</td>\n",
       "      <td>1953</td>\n",
       "      <td>49.979</td>\n",
       "    </tr>\n",
       "    <tr>\n",
       "      <th>4</th>\n",
       "      <td>Afghanistan</td>\n",
       "      <td>AFG</td>\n",
       "      <td>1954</td>\n",
       "      <td>50.004</td>\n",
       "    </tr>\n",
       "  </tbody>\n",
       "</table>\n",
       "</div>"
      ],
      "text/plain": [
       "        Entity Code  Year  Birth rate per 1000 population\n",
       "0  Afghanistan  AFG  1950                          49.380\n",
       "1  Afghanistan  AFG  1951                          49.624\n",
       "2  Afghanistan  AFG  1952                          49.784\n",
       "3  Afghanistan  AFG  1953                          49.979\n",
       "4  Afghanistan  AFG  1954                          50.004"
      ]
     },
     "execution_count": 163,
     "metadata": {},
     "output_type": "execute_result"
    }
   ],
   "source": [
    "# loading the data\n",
    "df = pd.read_csv('crude-birth-rate.csv', skiprows=1,\n",
    "                names=['Entity','Code','Year','Birth rate per 1000 population'])\n",
    "df.head()"
   ]
  },
  {
   "cell_type": "markdown",
   "metadata": {},
   "source": [
    "## 2. Daten vorbereiten\n",
    "\n",
    "- Vor dem Herunterladen der Daten von \"Ourworldindata\" haben wir die Daten der \"Welt\", \"Kontinente\" sowie auch der \"Gebiete\" aussortiert, um      Doppelzählungen zu vermeiden.\n",
    "- Die Roh-Daten sind bereits im Long-Format\n",
    "- Für die Analyse werden die Daten pivotiert: Jede Spalte repräsentiert ein Jahr (Year) und die Zeilen sind die verschiedenen Ethnien (Entity) - in alphabetischer Reihenfolge.\n",
    "- In unserem Beispiel werden folgende Datentypen gebraucht:"
   ]
  },
  {
   "cell_type": "code",
   "execution_count": 164,
   "metadata": {},
   "outputs": [
    {
     "data": {
      "text/html": [
       "<div>\n",
       "<style scoped>\n",
       "    .dataframe tbody tr th:only-of-type {\n",
       "        vertical-align: middle;\n",
       "    }\n",
       "\n",
       "    .dataframe tbody tr th {\n",
       "        vertical-align: top;\n",
       "    }\n",
       "\n",
       "    .dataframe thead th {\n",
       "        text-align: right;\n",
       "    }\n",
       "</style>\n",
       "<table border=\"1\" class=\"dataframe\">\n",
       "  <thead>\n",
       "    <tr style=\"text-align: right;\">\n",
       "      <th>Year</th>\n",
       "      <th>1950</th>\n",
       "      <th>1951</th>\n",
       "      <th>1952</th>\n",
       "      <th>1953</th>\n",
       "      <th>1954</th>\n",
       "      <th>1955</th>\n",
       "      <th>1956</th>\n",
       "      <th>1957</th>\n",
       "      <th>1958</th>\n",
       "      <th>1959</th>\n",
       "      <th>...</th>\n",
       "      <th>2014</th>\n",
       "      <th>2015</th>\n",
       "      <th>2016</th>\n",
       "      <th>2017</th>\n",
       "      <th>2018</th>\n",
       "      <th>2019</th>\n",
       "      <th>2020</th>\n",
       "      <th>2021</th>\n",
       "      <th>2022</th>\n",
       "      <th>2023</th>\n",
       "    </tr>\n",
       "    <tr>\n",
       "      <th>Entity</th>\n",
       "      <th></th>\n",
       "      <th></th>\n",
       "      <th></th>\n",
       "      <th></th>\n",
       "      <th></th>\n",
       "      <th></th>\n",
       "      <th></th>\n",
       "      <th></th>\n",
       "      <th></th>\n",
       "      <th></th>\n",
       "      <th></th>\n",
       "      <th></th>\n",
       "      <th></th>\n",
       "      <th></th>\n",
       "      <th></th>\n",
       "      <th></th>\n",
       "      <th></th>\n",
       "      <th></th>\n",
       "      <th></th>\n",
       "      <th></th>\n",
       "      <th></th>\n",
       "    </tr>\n",
       "  </thead>\n",
       "  <tbody>\n",
       "    <tr>\n",
       "      <th>Afghanistan</th>\n",
       "      <td>49.380</td>\n",
       "      <td>49.624</td>\n",
       "      <td>49.784</td>\n",
       "      <td>49.979</td>\n",
       "      <td>50.004</td>\n",
       "      <td>50.156</td>\n",
       "      <td>50.279</td>\n",
       "      <td>50.306</td>\n",
       "      <td>50.424</td>\n",
       "      <td>50.456</td>\n",
       "      <td>...</td>\n",
       "      <td>39.646</td>\n",
       "      <td>39.364</td>\n",
       "      <td>38.732</td>\n",
       "      <td>38.171</td>\n",
       "      <td>37.624</td>\n",
       "      <td>37.138</td>\n",
       "      <td>36.601</td>\n",
       "      <td>36.342</td>\n",
       "      <td>36.045</td>\n",
       "      <td>35.437</td>\n",
       "    </tr>\n",
       "    <tr>\n",
       "      <th>Albania</th>\n",
       "      <td>39.298</td>\n",
       "      <td>39.659</td>\n",
       "      <td>39.790</td>\n",
       "      <td>40.692</td>\n",
       "      <td>41.433</td>\n",
       "      <td>41.913</td>\n",
       "      <td>41.605</td>\n",
       "      <td>41.113</td>\n",
       "      <td>41.427</td>\n",
       "      <td>41.518</td>\n",
       "      <td>...</td>\n",
       "      <td>13.071</td>\n",
       "      <td>12.431</td>\n",
       "      <td>11.873</td>\n",
       "      <td>11.416</td>\n",
       "      <td>10.898</td>\n",
       "      <td>10.757</td>\n",
       "      <td>10.536</td>\n",
       "      <td>10.512</td>\n",
       "      <td>10.305</td>\n",
       "      <td>10.244</td>\n",
       "    </tr>\n",
       "    <tr>\n",
       "      <th>Algeria</th>\n",
       "      <td>50.602</td>\n",
       "      <td>50.284</td>\n",
       "      <td>49.961</td>\n",
       "      <td>49.746</td>\n",
       "      <td>49.666</td>\n",
       "      <td>49.625</td>\n",
       "      <td>49.516</td>\n",
       "      <td>49.404</td>\n",
       "      <td>49.397</td>\n",
       "      <td>49.114</td>\n",
       "      <td>...</td>\n",
       "      <td>26.063</td>\n",
       "      <td>25.811</td>\n",
       "      <td>25.439</td>\n",
       "      <td>25.015</td>\n",
       "      <td>24.063</td>\n",
       "      <td>23.379</td>\n",
       "      <td>22.430</td>\n",
       "      <td>21.392</td>\n",
       "      <td>20.491</td>\n",
       "      <td>19.625</td>\n",
       "    </tr>\n",
       "    <tr>\n",
       "      <th>Andorra</th>\n",
       "      <td>15.345</td>\n",
       "      <td>16.850</td>\n",
       "      <td>16.899</td>\n",
       "      <td>16.663</td>\n",
       "      <td>15.891</td>\n",
       "      <td>15.931</td>\n",
       "      <td>16.460</td>\n",
       "      <td>17.343</td>\n",
       "      <td>18.255</td>\n",
       "      <td>19.212</td>\n",
       "      <td>...</td>\n",
       "      <td>8.973</td>\n",
       "      <td>9.132</td>\n",
       "      <td>8.432</td>\n",
       "      <td>7.831</td>\n",
       "      <td>7.159</td>\n",
       "      <td>6.993</td>\n",
       "      <td>6.831</td>\n",
       "      <td>6.828</td>\n",
       "      <td>6.850</td>\n",
       "      <td>6.859</td>\n",
       "    </tr>\n",
       "    <tr>\n",
       "      <th>Angola</th>\n",
       "      <td>44.290</td>\n",
       "      <td>45.015</td>\n",
       "      <td>46.163</td>\n",
       "      <td>47.224</td>\n",
       "      <td>48.186</td>\n",
       "      <td>49.037</td>\n",
       "      <td>49.771</td>\n",
       "      <td>50.387</td>\n",
       "      <td>50.891</td>\n",
       "      <td>51.295</td>\n",
       "      <td>...</td>\n",
       "      <td>42.503</td>\n",
       "      <td>41.847</td>\n",
       "      <td>41.183</td>\n",
       "      <td>40.595</td>\n",
       "      <td>40.057</td>\n",
       "      <td>39.539</td>\n",
       "      <td>39.127</td>\n",
       "      <td>38.670</td>\n",
       "      <td>38.102</td>\n",
       "      <td>37.588</td>\n",
       "    </tr>\n",
       "  </tbody>\n",
       "</table>\n",
       "<p>5 rows × 74 columns</p>\n",
       "</div>"
      ],
      "text/plain": [
       "Year           1950    1951    1952    1953    1954    1955    1956    1957  \\\n",
       "Entity                                                                        \n",
       "Afghanistan  49.380  49.624  49.784  49.979  50.004  50.156  50.279  50.306   \n",
       "Albania      39.298  39.659  39.790  40.692  41.433  41.913  41.605  41.113   \n",
       "Algeria      50.602  50.284  49.961  49.746  49.666  49.625  49.516  49.404   \n",
       "Andorra      15.345  16.850  16.899  16.663  15.891  15.931  16.460  17.343   \n",
       "Angola       44.290  45.015  46.163  47.224  48.186  49.037  49.771  50.387   \n",
       "\n",
       "Year           1958    1959  ...    2014    2015    2016    2017    2018  \\\n",
       "Entity                       ...                                           \n",
       "Afghanistan  50.424  50.456  ...  39.646  39.364  38.732  38.171  37.624   \n",
       "Albania      41.427  41.518  ...  13.071  12.431  11.873  11.416  10.898   \n",
       "Algeria      49.397  49.114  ...  26.063  25.811  25.439  25.015  24.063   \n",
       "Andorra      18.255  19.212  ...   8.973   9.132   8.432   7.831   7.159   \n",
       "Angola       50.891  51.295  ...  42.503  41.847  41.183  40.595  40.057   \n",
       "\n",
       "Year           2019    2020    2021    2022    2023  \n",
       "Entity                                               \n",
       "Afghanistan  37.138  36.601  36.342  36.045  35.437  \n",
       "Albania      10.757  10.536  10.512  10.305  10.244  \n",
       "Algeria      23.379  22.430  21.392  20.491  19.625  \n",
       "Andorra       6.993   6.831   6.828   6.850   6.859  \n",
       "Angola       39.539  39.127  38.670  38.102  37.588  \n",
       "\n",
       "[5 rows x 74 columns]"
      ]
     },
     "execution_count": 164,
     "metadata": {},
     "output_type": "execute_result"
    }
   ],
   "source": [
    "df_pivot = df.pivot(index='Entity', columns='Year', values= 'Birth rate per 1000 population')\n",
    "df_pivot.head()"
   ]
  },
  {
   "cell_type": "markdown",
   "metadata": {},
   "source": [
    "## 3. Statistik der Roh-Daten (Analyse im Long-Format)\n",
    "\n",
    "über die einzelnen Spalten kann folgendes ausgesagt werden:\n",
    "- Die Spalte *Entity* (Ethnien) enthält 201 verschiedene Ethnien\n",
    "- Die Spalte *Codes* inkludiert ebenfalls 201 verschiedene Codes \n",
    "- Es sind diskrete Daten zwischen 1950 und 2023 vorhanden. Der Datensatz beeinhaltet 74 Jahre. Zu jedem Jahr sind gleich viele Daten verfügbar, weshalb der Datensatz seit Beginn der Aufzeichnung 1950 komplett ist.\n",
    "- Die Geburtenrate streut zwischen 4'211 (Minimum) und 58'627 (Maximum) pro 1000 Population. \n",
    "- Klassen:"
   ]
  },
  {
   "cell_type": "code",
   "execution_count": 165,
   "metadata": {},
   "outputs": [
    {
     "data": {
      "text/plain": [
       "Entity                             object\n",
       "Code                               object\n",
       "Year                                int64\n",
       "Birth rate per 1000 population    float64\n",
       "dtype: object"
      ]
     },
     "execution_count": 165,
     "metadata": {},
     "output_type": "execute_result"
    }
   ],
   "source": [
    "df.dtypes"
   ]
  },
  {
   "cell_type": "markdown",
   "metadata": {},
   "source": [
    "### 3.1 Analyse Ethnien"
   ]
  },
  {
   "cell_type": "code",
   "execution_count": 166,
   "metadata": {},
   "outputs": [
    {
     "name": "stdout",
     "output_type": "stream",
     "text": [
      "Anzahl verschiedener Ethnien:  201\n"
     ]
    }
   ],
   "source": [
    "print('Anzahl verschiedener Ethnien: ', len(df['Entity'].unique()))"
   ]
  },
  {
   "cell_type": "code",
   "execution_count": 167,
   "metadata": {},
   "outputs": [
    {
     "data": {
      "text/plain": [
       "Entity\n",
       "Afghanistan    74\n",
       "Panama         74\n",
       "Nicaragua      74\n",
       "Niger          74\n",
       "Nigeria        74\n",
       "               ..\n",
       "Greece         74\n",
       "Greenland      74\n",
       "Grenada        74\n",
       "Guatemala      74\n",
       "Zimbabwe       74\n",
       "Name: count, Length: 201, dtype: int64"
      ]
     },
     "execution_count": 167,
     "metadata": {},
     "output_type": "execute_result"
    }
   ],
   "source": [
    "# Anzahl Datenpunkte pro Ethnie\n",
    "df['Entity'].value_counts()"
   ]
  },
  {
   "cell_type": "code",
   "execution_count": 168,
   "metadata": {},
   "outputs": [
    {
     "data": {
      "text/plain": [
       "<Axes: title={'center': 'Anzahl Datenpunkte pro Ethnie'}, xlabel='Entity', ylabel='Anzahl Datenpunkte'>"
      ]
     },
     "execution_count": 168,
     "metadata": {},
     "output_type": "execute_result"
    },
    {
     "data": {
      "image/png": "[encoded data removed]",
      "text/plain": [
       "<Figure size 640x480 with 1 Axes>"
      ]
     },
     "metadata": {},
     "output_type": "display_data"
    }
   ],
   "source": [
    "df['Entity'].value_counts().plot(kind='bar',\n",
    "                                 xticks=[],         # disable labels on x-axis\n",
    "                                 ylabel='Anzahl Datenpunkte', title='Anzahl Datenpunkte pro Ethnie')"
   ]
  },
  {
   "cell_type": "markdown",
   "metadata": {},
   "source": [
    "### 3.2 Analyse Codes"
   ]
  },
  {
   "cell_type": "code",
   "execution_count": 169,
   "metadata": {},
   "outputs": [
    {
     "name": "stdout",
     "output_type": "stream",
     "text": [
      "Anzahl verschiedener Codes:   201\n"
     ]
    }
   ],
   "source": [
    "print('Anzahl verschiedener Codes:  ', len(df['Code'].unique()))"
   ]
  },
  {
   "cell_type": "code",
   "execution_count": 170,
   "metadata": {},
   "outputs": [
    {
     "data": {
      "text/plain": [
       "Code\n",
       "AFG    74\n",
       "PAN    74\n",
       "NIC    74\n",
       "NER    74\n",
       "NGA    74\n",
       "       ..\n",
       "GRC    74\n",
       "GRL    74\n",
       "GRD    74\n",
       "GTM    74\n",
       "ZWE    74\n",
       "Name: count, Length: 201, dtype: int64"
      ]
     },
     "execution_count": 170,
     "metadata": {},
     "output_type": "execute_result"
    }
   ],
   "source": [
    "# Anzahl Datenpunkte pro Code\n",
    "df['Code'].value_counts()"
   ]
  },
  {
   "cell_type": "code",
   "execution_count": 171,
   "metadata": {},
   "outputs": [
    {
     "data": {
      "image/png": "[encoded data removed]",
      "text/plain": [
       "<Figure size 640x480 with 1 Axes>"
      ]
     },
     "metadata": {},
     "output_type": "display_data"
    }
   ],
   "source": [
    "df['Code'].value_counts().plot(kind='bar', xticks=[], ylabel='Anzahl Datenpunkte', title='Anzahl Datenpunkte für Codes');"
   ]
  },
  {
   "cell_type": "markdown",
   "metadata": {},
   "source": [
    "### 3.3 Vergleich Anzahl Datenpunkte der Codes und Ethnien"
   ]
  },
  {
   "cell_type": "code",
   "execution_count": 172,
   "metadata": {},
   "outputs": [
    {
     "data": {
      "image/png": "[encoded data removed]",
      "text/plain": [
       "<Figure size 640x480 with 1 Axes>"
      ]
     },
     "metadata": {},
     "output_type": "display_data"
    }
   ],
   "source": [
    "anzahl_codes = df['Code'].nunique()\n",
    "anzahl_ethnien = df['Entity'].nunique()\n",
    "plt.bar(['Code', 'Entity'], [anzahl_codes, anzahl_ethnien])\n",
    "plt.xlabel('Rubrik')\n",
    "plt.ylabel('Anzahl Datenpunkte')\n",
    "plt.title('Vergleich Anzahl Datenpunkte der Codes und Ethnien')\n",
    "plt.show()"
   ]
  },
  {
   "cell_type": "markdown",
   "metadata": {},
   "source": [
    "### 3.4 Analyse Jahr (Year)"
   ]
  },
  {
   "cell_type": "code",
   "execution_count": 173,
   "metadata": {},
   "outputs": [
    {
     "name": "stdout",
     "output_type": "stream",
     "text": [
      "Anzahl verschiedener Jahre:  74\n"
     ]
    }
   ],
   "source": [
    "print('Anzahl verschiedener Jahre: ', len(df['Year'].unique()))"
   ]
  },
  {
   "cell_type": "code",
   "execution_count": 174,
   "metadata": {},
   "outputs": [
    {
     "data": {
      "text/plain": [
       "Year\n",
       "1950    201\n",
       "1951    201\n",
       "1952    201\n",
       "1953    201\n",
       "1954    201\n",
       "       ... \n",
       "2019    201\n",
       "2020    201\n",
       "2021    201\n",
       "2022    201\n",
       "2023    201\n",
       "Name: count, Length: 74, dtype: int64"
      ]
     },
     "execution_count": 174,
     "metadata": {},
     "output_type": "execute_result"
    }
   ],
   "source": [
    "# Anzahl Datenpunkte pro Jahr\n",
    "df['Year'].value_counts().sort_index()"
   ]
  },
  {
   "cell_type": "code",
   "execution_count": 175,
   "metadata": {},
   "outputs": [
    {
     "data": {
      "text/plain": [
       "<matplotlib.legend.Legend at 0x17c6889e0>"
      ]
     },
     "execution_count": 175,
     "metadata": {},
     "output_type": "execute_result"
    },
    {
     "data": {
      "image/png": "[encoded data removed]",
      "text/plain": [
       "<Figure size 640x480 with 1 Axes>"
      ]
     },
     "metadata": {},
     "output_type": "display_data"
    }
   ],
   "source": [
    "# Jahre mit maximaler Anzahl Datenpunkte (201)\n",
    "g = df['Year'].value_counts().sort_index().plot(ylabel='Anzahl Datenpunkte', title='Anzahl Datenpunkte pro Jahr');\n",
    "g.axvline(x=1950, color='red', label='1950')        #rote Linie bei 1950 - Start der Aufzeichnung\n",
    "g.axvline(x=2023, color='red', label='2023')        #rote Linie bei 2023 - Ender der Aufzeichnung \n",
    "g.legend()"
   ]
  },
  {
   "cell_type": "markdown",
   "metadata": {},
   "source": [
    "### 3.5 Analyse Geburtenrate pro 1000 Population (Birth rate)"
   ]
  },
  {
   "cell_type": "code",
   "execution_count": 176,
   "metadata": {},
   "outputs": [
    {
     "data": {
      "text/plain": [
       "<bound method NDFrame.describe of             Entity Code  Year  Birth rate per 1000 population\n",
       "0      Afghanistan  AFG  1950                          49.380\n",
       "1      Afghanistan  AFG  1951                          49.624\n",
       "2      Afghanistan  AFG  1952                          49.784\n",
       "3      Afghanistan  AFG  1953                          49.979\n",
       "4      Afghanistan  AFG  1954                          50.004\n",
       "...            ...  ...   ...                             ...\n",
       "14869     Zimbabwe  ZWE  2019                          31.121\n",
       "14870     Zimbabwe  ZWE  2020                          30.988\n",
       "14871     Zimbabwe  ZWE  2021                          30.932\n",
       "14872     Zimbabwe  ZWE  2022                          30.882\n",
       "14873     Zimbabwe  ZWE  2023                          30.410\n",
       "\n",
       "[14874 rows x 4 columns]>"
      ]
     },
     "execution_count": 176,
     "metadata": {},
     "output_type": "execute_result"
    }
   ],
   "source": [
    "df.describe"
   ]
  },
  {
   "cell_type": "code",
   "execution_count": 177,
   "metadata": {},
   "outputs": [
    {
     "name": "stdout",
     "output_type": "stream",
     "text": [
      "Das Maximum ist: 58.627\n",
      "Das Minimum ist: 4.211\n"
     ]
    }
   ],
   "source": [
    "max_value = df['Birth rate per 1000 population'].max()\n",
    "min_value = df['Birth rate per 1000 population'].min()\n",
    "\n",
    "print(f'Das Maximum ist: {max_value}')\n",
    "print(f'Das Minimum ist: {min_value}')"
   ]
  },
  {
   "cell_type": "code",
   "execution_count": 182,
   "metadata": {},
   "outputs": [
    {
     "data": {
      "text/plain": [
       "<matplotlib.legend.Legend at 0x30bc0c140>"
      ]
     },
     "execution_count": 182,
     "metadata": {},
     "output_type": "execute_result"
    },
    {
     "data": {
      "image/png": "[encoded data removed]",
      "text/plain": [
       "<Figure size 640x480 with 1 Axes>"
      ]
     },
     "metadata": {},
     "output_type": "display_data"
    }
   ],
   "source": [
    "g = df['Birth rate per 1000 population'].plot(kind='hist', bins =20, title= 'Histogramm Geburtenrate pro 1000 Population',                           \n",
    "                          xlabel= 'Geburtenrate pro 1000 Population', ylabel= 'Anzahl')\n",
    "mean= df['Birth rate per 1000 population'].mean()\n",
    "g.axvline(x=df['Birth rate per 1000 population'].mean(), color='red' ,label= f'Mittelwert = {mean:.2f}')       #rote Linie bei Mittelwert\n",
    "\n",
    "median= df['Birth rate per 1000 population'].median()\n",
    "g.axvline(x=df['Birth rate per 1000 population'].median(), color='orange' ,label= f'Median = {median:.2f}')     #orange Linie bei Median\n",
    "\n",
    "g.legend()   "
   ]
  },
  {
   "cell_type": "markdown",
   "metadata": {},
   "source": [
    "## 4. Analyse\n",
    "\n",
    "### Vorgehen\n",
    "\n",
    "Wie wir beim Punkt 3.3 aufgezeigt haben, beinhaltet unser Datensatz genau gleich viele Codes wie Ethnien. Deshalb analysieren wir ab hier nur noch mit den Codes.\n",
    "\n",
    "Als erstes erstellen wir eine Pivot-Tabelle mit den Jahren und den dazugehörigen Geburtenraten pro 1000 Population. Danach zeigen wir dies in einem Diagramm auf. Wir analysieren in welchen Jahren, die Geburtenraten speziell gestiegen oder gesunken sind. Ebenfalls möchten wir die Differenzen zwischen den Jahren mit den meisten Geburten und die Jahre mit den wenigsten Geburten berechnen. In unserer Interpretation finden Sie die möglichen Gründe dafür, welche anhand von Quellen untersucht wurden.\n",
    "\n",
    "### Beobachtung\n",
    "\n",
    "### Interpretation (qzelle!)"
   ]
  },
  {
   "cell_type": "markdown",
   "metadata": {},
   "source": [
    "## Erste Visualisierung"
   ]
  },
  {
   "cell_type": "code",
   "execution_count": 183,
   "metadata": {},
   "outputs": [
    {
     "data": {
      "text/html": [
       "<div>\n",
       "<style scoped>\n",
       "    .dataframe tbody tr th:only-of-type {\n",
       "        vertical-align: middle;\n",
       "    }\n",
       "\n",
       "    .dataframe tbody tr th {\n",
       "        vertical-align: top;\n",
       "    }\n",
       "\n",
       "    .dataframe thead th {\n",
       "        text-align: right;\n",
       "    }\n",
       "</style>\n",
       "<table border=\"1\" class=\"dataframe\">\n",
       "  <thead>\n",
       "    <tr style=\"text-align: right;\">\n",
       "      <th>Code</th>\n",
       "      <th>ABW</th>\n",
       "      <th>AFG</th>\n",
       "      <th>AGO</th>\n",
       "      <th>AIA</th>\n",
       "      <th>ALB</th>\n",
       "      <th>AND</th>\n",
       "      <th>ARE</th>\n",
       "      <th>ARG</th>\n",
       "      <th>ARM</th>\n",
       "      <th>ATG</th>\n",
       "      <th>...</th>\n",
       "      <th>VAT</th>\n",
       "      <th>VCT</th>\n",
       "      <th>VEN</th>\n",
       "      <th>VNM</th>\n",
       "      <th>VUT</th>\n",
       "      <th>WSM</th>\n",
       "      <th>YEM</th>\n",
       "      <th>ZAF</th>\n",
       "      <th>ZMB</th>\n",
       "      <th>ZWE</th>\n",
       "    </tr>\n",
       "    <tr>\n",
       "      <th>Year</th>\n",
       "      <th></th>\n",
       "      <th></th>\n",
       "      <th></th>\n",
       "      <th></th>\n",
       "      <th></th>\n",
       "      <th></th>\n",
       "      <th></th>\n",
       "      <th></th>\n",
       "      <th></th>\n",
       "      <th></th>\n",
       "      <th></th>\n",
       "      <th></th>\n",
       "      <th></th>\n",
       "      <th></th>\n",
       "      <th></th>\n",
       "      <th></th>\n",
       "      <th></th>\n",
       "      <th></th>\n",
       "      <th></th>\n",
       "      <th></th>\n",
       "      <th></th>\n",
       "    </tr>\n",
       "  </thead>\n",
       "  <tbody>\n",
       "    <tr>\n",
       "      <th>1950</th>\n",
       "      <td>41.571</td>\n",
       "      <td>49.380</td>\n",
       "      <td>44.290</td>\n",
       "      <td>50.929</td>\n",
       "      <td>39.298</td>\n",
       "      <td>15.345</td>\n",
       "      <td>45.566</td>\n",
       "      <td>26.037</td>\n",
       "      <td>34.479</td>\n",
       "      <td>36.547</td>\n",
       "      <td>...</td>\n",
       "      <td>7.471</td>\n",
       "      <td>52.251</td>\n",
       "      <td>46.802</td>\n",
       "      <td>38.776</td>\n",
       "      <td>41.617</td>\n",
       "      <td>53.443</td>\n",
       "      <td>52.763</td>\n",
       "      <td>40.964</td>\n",
       "      <td>50.110</td>\n",
       "      <td>50.287</td>\n",
       "    </tr>\n",
       "    <tr>\n",
       "      <th>1951</th>\n",
       "      <td>40.896</td>\n",
       "      <td>49.624</td>\n",
       "      <td>45.015</td>\n",
       "      <td>51.237</td>\n",
       "      <td>39.659</td>\n",
       "      <td>16.850</td>\n",
       "      <td>44.194</td>\n",
       "      <td>25.945</td>\n",
       "      <td>35.170</td>\n",
       "      <td>36.192</td>\n",
       "      <td>...</td>\n",
       "      <td>7.578</td>\n",
       "      <td>51.936</td>\n",
       "      <td>47.208</td>\n",
       "      <td>34.849</td>\n",
       "      <td>42.230</td>\n",
       "      <td>53.447</td>\n",
       "      <td>53.251</td>\n",
       "      <td>41.090</td>\n",
       "      <td>49.798</td>\n",
       "      <td>49.950</td>\n",
       "    </tr>\n",
       "    <tr>\n",
       "      <th>1952</th>\n",
       "      <td>40.129</td>\n",
       "      <td>49.784</td>\n",
       "      <td>46.163</td>\n",
       "      <td>51.643</td>\n",
       "      <td>39.790</td>\n",
       "      <td>16.899</td>\n",
       "      <td>43.069</td>\n",
       "      <td>25.790</td>\n",
       "      <td>35.791</td>\n",
       "      <td>35.948</td>\n",
       "      <td>...</td>\n",
       "      <td>7.712</td>\n",
       "      <td>51.691</td>\n",
       "      <td>47.460</td>\n",
       "      <td>40.712</td>\n",
       "      <td>42.848</td>\n",
       "      <td>53.419</td>\n",
       "      <td>53.665</td>\n",
       "      <td>41.120</td>\n",
       "      <td>49.642</td>\n",
       "      <td>49.554</td>\n",
       "    </tr>\n",
       "    <tr>\n",
       "      <th>1953</th>\n",
       "      <td>39.126</td>\n",
       "      <td>49.979</td>\n",
       "      <td>47.224</td>\n",
       "      <td>51.289</td>\n",
       "      <td>40.692</td>\n",
       "      <td>16.663</td>\n",
       "      <td>42.133</td>\n",
       "      <td>25.601</td>\n",
       "      <td>36.511</td>\n",
       "      <td>35.731</td>\n",
       "      <td>...</td>\n",
       "      <td>7.866</td>\n",
       "      <td>51.422</td>\n",
       "      <td>47.557</td>\n",
       "      <td>38.962</td>\n",
       "      <td>43.413</td>\n",
       "      <td>53.221</td>\n",
       "      <td>54.028</td>\n",
       "      <td>41.076</td>\n",
       "      <td>49.502</td>\n",
       "      <td>49.201</td>\n",
       "    </tr>\n",
       "    <tr>\n",
       "      <th>1954</th>\n",
       "      <td>38.030</td>\n",
       "      <td>50.004</td>\n",
       "      <td>48.186</td>\n",
       "      <td>50.046</td>\n",
       "      <td>41.433</td>\n",
       "      <td>15.891</td>\n",
       "      <td>41.436</td>\n",
       "      <td>25.342</td>\n",
       "      <td>37.302</td>\n",
       "      <td>35.676</td>\n",
       "      <td>...</td>\n",
       "      <td>8.021</td>\n",
       "      <td>51.148</td>\n",
       "      <td>47.537</td>\n",
       "      <td>42.425</td>\n",
       "      <td>43.970</td>\n",
       "      <td>53.013</td>\n",
       "      <td>54.393</td>\n",
       "      <td>40.936</td>\n",
       "      <td>49.340</td>\n",
       "      <td>48.855</td>\n",
       "    </tr>\n",
       "  </tbody>\n",
       "</table>\n",
       "<p>5 rows × 201 columns</p>\n",
       "</div>"
      ],
      "text/plain": [
       "Code     ABW     AFG     AGO     AIA     ALB     AND     ARE     ARG     ARM  \\\n",
       "Year                                                                           \n",
       "1950  41.571  49.380  44.290  50.929  39.298  15.345  45.566  26.037  34.479   \n",
       "1951  40.896  49.624  45.015  51.237  39.659  16.850  44.194  25.945  35.170   \n",
       "1952  40.129  49.784  46.163  51.643  39.790  16.899  43.069  25.790  35.791   \n",
       "1953  39.126  49.979  47.224  51.289  40.692  16.663  42.133  25.601  36.511   \n",
       "1954  38.030  50.004  48.186  50.046  41.433  15.891  41.436  25.342  37.302   \n",
       "\n",
       "Code     ATG  ...    VAT     VCT     VEN     VNM     VUT     WSM     YEM  \\\n",
       "Year          ...                                                          \n",
       "1950  36.547  ...  7.471  52.251  46.802  38.776  41.617  53.443  52.763   \n",
       "1951  36.192  ...  7.578  51.936  47.208  34.849  42.230  53.447  53.251   \n",
       "1952  35.948  ...  7.712  51.691  47.460  40.712  42.848  53.419  53.665   \n",
       "1953  35.731  ...  7.866  51.422  47.557  38.962  43.413  53.221  54.028   \n",
       "1954  35.676  ...  8.021  51.148  47.537  42.425  43.970  53.013  54.393   \n",
       "\n",
       "Code     ZAF     ZMB     ZWE  \n",
       "Year                          \n",
       "1950  40.964  50.110  50.287  \n",
       "1951  41.090  49.798  49.950  \n",
       "1952  41.120  49.642  49.554  \n",
       "1953  41.076  49.502  49.201  \n",
       "1954  40.936  49.340  48.855  \n",
       "\n",
       "[5 rows x 201 columns]"
      ]
     },
     "execution_count": 183,
     "metadata": {},
     "output_type": "execute_result"
    }
   ],
   "source": [
    "df_pivot = df.pivot(index='Year', columns='Code', values='Birth rate per 1000 population')\n",
    "df_pivot.head()\n"
   ]
  },
  {
   "cell_type": "code",
   "execution_count": 184,
   "metadata": {},
   "outputs": [
    {
     "name": "stdout",
     "output_type": "stream",
     "text": [
      "      Birth rate per 1000 population\n",
      "Year                                \n",
      "1950                        7897.563\n",
      "1951                        7876.253\n",
      "1952                        7899.769\n",
      "1953                        7895.823\n",
      "1954                        7901.272\n",
      "...                              ...\n",
      "2019                        3861.075\n",
      "2020                        3779.491\n",
      "2021                        3722.471\n",
      "2022                        3644.367\n",
      "2023                        3588.571\n",
      "\n",
      "[74 rows x 1 columns]\n"
     ]
    }
   ],
   "source": [
    "pivot_table = pd.pivot_table(df,\n",
    "                             values='Birth rate per 1000 population',\n",
    "                             index='Year',\n",
    "                             aggfunc='sum')\n",
    "print(pivot_table)"
   ]
  },
  {
   "cell_type": "code",
   "execution_count": 185,
   "metadata": {},
   "outputs": [
    {
     "data": {
      "text/plain": [
       "Text(0, 0.5, 'Summe der Geburtenraten pro Jahr')"
      ]
     },
     "execution_count": 185,
     "metadata": {},
     "output_type": "execute_result"
    },
    {
     "data": {
      "image/png": "[encoded data removed]",
      "text/plain": [
       "<Figure size 640x480 with 1 Axes>"
      ]
     },
     "metadata": {},
     "output_type": "display_data"
    }
   ],
   "source": [
    "pivot_table.plot(kind='line', legend=False)\n",
    "plt.title('Veränderungen der Summe der Geburtenrate über die Jahre')\n",
    "plt.xlabel('Jahre')\n",
    "plt.ylabel('Summe der Geburtenraten pro Jahr')"
   ]
  },
  {
   "cell_type": "markdown",
   "metadata": {},
   "source": [
    "## Berechnungen"
   ]
  },
  {
   "cell_type": "code",
   "execution_count": 186,
   "metadata": {},
   "outputs": [
    {
     "name": "stdout",
     "output_type": "stream",
     "text": [
      "Index(['Birth rate per 1000 population'], dtype='object')\n"
     ]
    }
   ],
   "source": [
    "print(pivot_table.columns)"
   ]
  },
  {
   "cell_type": "code",
   "execution_count": 187,
   "metadata": {},
   "outputs": [
    {
     "name": "stdout",
     "output_type": "stream",
     "text": [
      "Birth rate per 1000 population    4308.992\n",
      "dtype: float64\n"
     ]
    }
   ],
   "source": [
    "diffs= pivot_table.loc[1950]- pivot_table.loc[2023]\n",
    "diffs = diffs.sort_values().dropna()\n",
    "print(diffs)"
   ]
  },
  {
   "cell_type": "code",
   "execution_count": 139,
   "metadata": {},
   "outputs": [
    {
     "data": {
      "image/png": "[encoded data removed]",
      "text/plain": [
       "<Figure size 1200x600 with 1 Axes>"
      ]
     },
     "metadata": {},
     "output_type": "display_data"
    }
   ],
   "source": [
    "births_1950=pivot_table.loc[1950]      #Geburtsraten-Daten vorbereiten von 1950\n",
    "births_2023=pivot_table.loc[2023]       #Geburtsraten-Daten vorbereiten von 2023\n",
    "diffs= births_1950 - births_2023\n",
    "\n",
    "data= pd.DataFrame({                    #DataFrame für die Gfrafik erstellen\n",
    "    '1950': births_1950,\n",
    "    '2023': births_2023,\n",
    "    'Differenz': diffs})\n",
    "\n",
    "fig, ax = plt.subplots(figsize=(12,6))          #Plot erstellen\n",
    "\n",
    "data[['1950','2023']].plot.(kind='bar', ax=ax, width=0.8)\n",
    "ax.set_ylabel"
   ]
  },
  {
   "cell_type": "markdown",
   "metadata": {},
   "source": [
    "## Visualisierung"
   ]
  }
 ],
 "metadata": {
  "kernelspec": {
   "display_name": "Python 3",
   "language": "python",
   "name": "python3"
  },
  "language_info": {
   "codemirror_mode": {
    "name": "ipython",
    "version": 3
   },
   "file_extension": ".py",
   "mimetype": "text/x-python",
   "name": "python",
   "nbconvert_exporter": "python",
   "pygments_lexer": "ipython3",
   "version": "3.12.4"
  }
 },
 "nbformat": 4,
 "nbformat_minor": 2
}
